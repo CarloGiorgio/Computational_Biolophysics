{
  "nbformat": 4,
  "nbformat_minor": 0,
  "metadata": {
    "kernelspec": {
      "display_name": "Python 3",
      "language": "python",
      "name": "python3"
    },
    "language_info": {
      "codemirror_mode": {
        "name": "ipython",
        "version": 3
      },
      "file_extension": ".py",
      "mimetype": "text/x-python",
      "name": "python",
      "nbconvert_exporter": "python",
      "pygments_lexer": "ipython3",
      "version": "3.7.6"
    },
    "colab": {
      "name": "ising_cluster.ipynb",
      "provenance": []
    }
  },
  "cells": [
    {
      "cell_type": "markdown",
      "metadata": {
        "id": "CWRpvTjpjeCd"
      },
      "source": [
        "# Ising model using Swendsen-Wang algorithm\n",
        "Random cluster method with a 1d array of Spins. The neighbors are the one on the lattice"
      ]
    },
    {
      "cell_type": "code",
      "metadata": {
        "id": "YSFXAHifjdSt"
      },
      "source": [
        "import numpy as np\n",
        "import matplotlib.pyplot as plt"
      ],
      "execution_count": 2,
      "outputs": []
    },
    {
      "cell_type": "code",
      "metadata": {
        "id": "fvw3Z_M8jdS4",
        "outputId": "f046a35f-4169-4622-b910-6a510c098602",
        "colab": {
          "base_uri": "https://localhost:8080/"
        }
      },
      "source": [
        "#Ising model using a 1d array\n",
        "L=5\n",
        "g=2*np.random.randint(2,size=L*L)-1\n",
        "print(g)"
      ],
      "execution_count": 10,
      "outputs": [
        {
          "output_type": "stream",
          "text": [
            "[-1  1  1 -1  1 -1  1 -1  1  1 -1 -1 -1 -1  1 -1  1 -1 -1 -1  1 -1 -1 -1\n",
            "  1]\n"
          ],
          "name": "stdout"
        }
      ]
    },
    {
      "cell_type": "code",
      "metadata": {
        "id": "HJblUCGajdS4"
      },
      "source": [
        "#List of neighbors\n",
        "#function that finds once for all the neighobrs\n",
        "\n",
        "def neig(i,L):\n",
        "    l=[]\n",
        "    l.append((i+1+L)%(L)+i//(L)*L)\n",
        "    l.append((i-1+L)%(L)+i//(L)*L)\n",
        "    l.append((i+L)%(L*L))\n",
        "    l.append((i-L)%(L*L))\n",
        "    return l.copy()"
      ],
      "execution_count": 11,
      "outputs": []
    },
    {
      "cell_type": "code",
      "metadata": {
        "id": "BCz1ge4QjdS4",
        "outputId": "579ccdfc-c188-48ce-e611-630c47f6b016",
        "colab": {
          "base_uri": "https://localhost:8080/"
        }
      },
      "source": [
        "nei=[]\n",
        "for i in range(g.shape[0]):\n",
        "    nei.append(neig(i,L))\n",
        "nei=np.asarray(nei)\n",
        "print(nei)"
      ],
      "execution_count": 12,
      "outputs": [
        {
          "output_type": "stream",
          "text": [
            "[[ 1  4  5 20]\n",
            " [ 2  0  6 21]\n",
            " [ 3  1  7 22]\n",
            " [ 4  2  8 23]\n",
            " [ 0  3  9 24]\n",
            " [ 6  9 10  0]\n",
            " [ 7  5 11  1]\n",
            " [ 8  6 12  2]\n",
            " [ 9  7 13  3]\n",
            " [ 5  8 14  4]\n",
            " [11 14 15  5]\n",
            " [12 10 16  6]\n",
            " [13 11 17  7]\n",
            " [14 12 18  8]\n",
            " [10 13 19  9]\n",
            " [16 19 20 10]\n",
            " [17 15 21 11]\n",
            " [18 16 22 12]\n",
            " [19 17 23 13]\n",
            " [15 18 24 14]\n",
            " [21 24  0 15]\n",
            " [22 20  1 16]\n",
            " [23 21  2 17]\n",
            " [24 22  3 18]\n",
            " [20 23  4 19]]\n"
          ],
          "name": "stdout"
        }
      ]
    },
    {
      "cell_type": "code",
      "metadata": {
        "id": "XWzso2l6jdS5",
        "outputId": "a575bafd-30ed-4f65-e02a-decc1875f64a",
        "colab": {
          "base_uri": "https://localhost:8080/"
        }
      },
      "source": [
        "#Example of creation of a cluster\n",
        "#for all site look at the neighbors, enstablish if they have the same spin \n",
        "#and with a probability 1-e^(-2beta) start creating a cluster\n",
        "#THIS IS WRONG \n",
        "#Under estimate of cluster size\n",
        "k=list(range(g.shape[0]))\n",
        "cl=[]\n",
        "T=2.7\n",
        "tr=1-np.exp(-2/T)\n",
        "#print(tr)\n",
        "\n",
        "for i in range(g.shape[0]):\n",
        "    \n",
        "    if i in k and i==0:\n",
        "        l=[]\n",
        "        l.append(i)\n",
        "        k.remove(i)\n",
        "        \n",
        "    if i in k and i!=0:\n",
        "        cl.append(l.copy())\n",
        "        l.clear()\n",
        "        l.append(i)\n",
        "        k.remove(i)\n",
        "        \n",
        "    for n in nei[i]:\n",
        "        if n in k and g[i]==g[n] and np.random.uniform(0,1)<tr:\n",
        "            l.append(n)\n",
        "            k.remove(n)\n",
        "cl.append(l.copy())\n",
        "cl"
      ],
      "execution_count": 13,
      "outputs": [
        {
          "output_type": "execute_result",
          "data": {
            "text/plain": [
              "[[0, 5],\n",
              " [1, 6],\n",
              " [2],\n",
              " [3],\n",
              " [4, 10],\n",
              " [7],\n",
              " [8, 9, 14, 11, 15, 12, 13, 17],\n",
              " [16, 18, 22],\n",
              " [19],\n",
              " [20, 24],\n",
              " [21, 23]]"
            ]
          },
          "metadata": {
            "tags": []
          },
          "execution_count": 13
        }
      ]
    },
    {
      "cell_type": "code",
      "metadata": {
        "id": "1cBNiMdmmXXG"
      },
      "source": [
        "def nie_clu(i,N,j,k):\n",
        "  L=[]\n",
        "  for n in N:\n",
        "    if n in k and g[i]==g[n] and np.random.uniform(0,1)<tr:\n",
        "      L.append(n)\n",
        "  if i in k:\n",
        "    k.remove(i)\n",
        "  if L:\n",
        "    for l in L:\n",
        "      nie_clu(l,nei[l],L,k)\n",
        "    j.extend(L.copy())"
      ],
      "execution_count": 52,
      "outputs": []
    },
    {
      "cell_type": "code",
      "metadata": {
        "id": "_y8Lpa0sqKq3",
        "outputId": "57307bca-be0d-44e0-8782-e3d84a4c569b",
        "colab": {
          "base_uri": "https://localhost:8080/"
        }
      },
      "source": [
        "l=[]\n",
        "k=list(range(L*L))\n",
        "nie_clu(0,nei[0],l,k)\n",
        "print(l)\n",
        "print(list(set(l)))"
      ],
      "execution_count": 53,
      "outputs": [
        {
          "output_type": "stream",
          "text": [
            "[]\n",
            "[]\n"
          ],
          "name": "stdout"
        }
      ]
    },
    {
      "cell_type": "code",
      "metadata": {
        "id": "Le4QV0XysYNp",
        "outputId": "82699e6a-3592-41d1-fa4e-ebd3304ee8ba",
        "colab": {
          "base_uri": "https://localhost:8080/"
        }
      },
      "source": [
        "cl=[]\n",
        "k=list(range(L*L))\n",
        "for i in range(L*L):\n",
        "  if i in k:\n",
        "    l=[i]\n",
        "    nie_clu(i,nei[i],l,k)\n",
        "    l=list(set(l))\n",
        "    cl.append(l.copy())\n",
        "  if not k:\n",
        "    break\n",
        "cl"
      ],
      "execution_count": 56,
      "outputs": [
        {
          "output_type": "execute_result",
          "data": {
            "text/plain": [
              "[[0, 10, 5],\n",
              " [1, 2, 6],\n",
              " [3],\n",
              " [9, 4, 14],\n",
              " [7],\n",
              " [8],\n",
              " [11, 12, 13, 15, 17, 18, 19, 21, 22, 23],\n",
              " [16],\n",
              " [24, 20]]"
            ]
          },
          "metadata": {
            "tags": []
          },
          "execution_count": 56
        }
      ]
    },
    {
      "cell_type": "code",
      "metadata": {
        "id": "AsYnUjnboNAa",
        "outputId": "1fa8e8c4-3151-4900-9e9d-3f716e297007",
        "colab": {
          "base_uri": "https://localhost:8080/"
        }
      },
      "source": [
        "l=[]\n",
        "if not l:\n",
        "  print('Hello')"
      ],
      "execution_count": 24,
      "outputs": [
        {
          "output_type": "stream",
          "text": [
            "Hello\n"
          ],
          "name": "stdout"
        }
      ]
    },
    {
      "cell_type": "code",
      "metadata": {
        "id": "9vpUgS6YjdS5"
      },
      "source": [
        "m=float(sum(g))/g.shape[0]"
      ],
      "execution_count": null,
      "outputs": []
    },
    {
      "cell_type": "code",
      "metadata": {
        "id": "-_mK5ToTjdS5",
        "outputId": "3e7a0da8-50d9-4baa-9e7f-c9f0e38d8b6b"
      },
      "source": [
        "if np.random.uniform(0,1)<0.5:\n",
        "    r=np.random.randint(0,len(cl))\n",
        "    for c in cl[r]:\n",
        "        g[c]*=-1\n",
        "g"
      ],
      "execution_count": null,
      "outputs": [
        {
          "output_type": "execute_result",
          "data": {
            "text/plain": [
              "array([-1, -1, -1,  1, -1,  1,  1, -1, -1,  1,  1,  1,  1, -1,  1,  1, -1,\n",
              "       -1, -1,  1, -1, -1, -1, -1,  1, -1, -1,  1, -1, -1,  1,  1,  1, -1,\n",
              "        1,  1,  1,  1,  1,  1,  1, -1,  1, -1, -1,  1, -1, -1,  1, -1,  1,\n",
              "        1,  1, -1,  1, -1,  1,  1,  1, -1, -1,  1,  1,  1, -1, -1, -1, -1,\n",
              "       -1,  1, -1, -1, -1,  1, -1, -1, -1,  1, -1, -1,  1, -1,  1,  1, -1,\n",
              "        1,  1,  1,  1, -1,  1, -1, -1, -1, -1,  1,  1, -1, -1,  1, -1,  1,\n",
              "        1,  1,  1, -1, -1, -1, -1,  1, -1,  1, -1,  1, -1, -1, -1,  1,  1,\n",
              "       -1,  1,  1, -1, -1,  1,  1, -1, -1,  1,  1,  1,  1,  1, -1, -1,  1,\n",
              "        1, -1,  1, -1,  1, -1, -1,  1, -1,  1, -1,  1,  1, -1,  1, -1, -1,\n",
              "       -1,  1,  1,  1, -1, -1, -1,  1, -1, -1, -1, -1,  1,  1,  1,  1,  1,\n",
              "       -1, -1, -1,  1, -1, -1, -1, -1,  1, -1, -1,  1, -1,  1, -1,  1,  1,\n",
              "        1,  1, -1,  1, -1, -1,  1,  1, -1,  1,  1, -1,  1,  1, -1,  1, -1,\n",
              "       -1,  1,  1, -1,  1,  1,  1,  1,  1, -1,  1,  1, -1, -1, -1, -1,  1,\n",
              "       -1, -1, -1,  1,  1,  1,  1, -1,  1,  1,  1,  1,  1, -1,  1, -1, -1,\n",
              "       -1, -1,  1, -1,  1,  1,  1,  1, -1, -1,  1,  1,  1,  1,  1, -1,  1,\n",
              "        1])"
            ]
          },
          "metadata": {
            "tags": []
          },
          "execution_count": 12
        }
      ]
    },
    {
      "cell_type": "code",
      "metadata": {
        "id": "aVTqqY9ijdS5"
      },
      "source": [
        "def cluster_creation_1(T,L,g):\n",
        "    tr=1-np.exp(-2./T)\n",
        "    k=list(range(L*L))\n",
        "    cl=[]\n",
        "    \n",
        "    for i in range(L*L):\n",
        "    \n",
        "        if i in k and i==0:\n",
        "            l.append(i)\n",
        "            k.remove(i)\n",
        "\n",
        "        if i in k and i!=0:\n",
        "            cl.append(l.copy())\n",
        "            l.clear()\n",
        "            l.append(i)\n",
        "            k.remove(i)\n",
        "\n",
        "        for n in nei[i]:\n",
        "            if n in k and g[i]==g[n] and np.random.random()<tr:\n",
        "                l.append(n)\n",
        "                k.remove(n)\n",
        "                \n",
        "    cl.append(l.copy())\n",
        "    l.clear()\n",
        "    return cl.copy()"
      ],
      "execution_count": null,
      "outputs": []
    },
    {
      "cell_type": "code",
      "metadata": {
        "id": "4BAhtk5DjdS6"
      },
      "source": [
        "L=16\n",
        "g=2*np.random.randint(2,size=L*L)-1\n",
        "T=float(1.27)\n",
        "m=[]\n",
        "nei=[]\n",
        "m_m=[]\n",
        "m.append(float(sum(g)/L/L))\n",
        "m_m.append(m[-1])\n",
        "tp_p=[0]\n",
        "for i in range(g.shape[0]):\n",
        "    nei.append(neig(i,L))\n",
        "nei=np.asarray(nei)\n",
        "tp=0\n",
        "cl=[]\n",
        "k=[]\n",
        "l=[]\n",
        "for t in range(300):\n",
        "    cl=cluster_creation_1(T,L,g)\n",
        "    \n",
        "    if np.random.random()<0.5:\n",
        "        r=np.random.randint(0,len(cl))\n",
        "        g[cl[r]]*=-1\n",
        "        \n",
        "    if t>tp:\n",
        "        m.append(float(sum(g))/g.shape[0])\n",
        "        m_m.append(sum(m))\n",
        "        tp=int(tp*1.1)+1\n",
        "        tp_p.append(tp)"
      ],
      "execution_count": null,
      "outputs": []
    },
    {
      "cell_type": "code",
      "metadata": {
        "id": "6Cd_1_8CjdS6",
        "outputId": "01c289a9-5faa-4a4f-f250-a46495aef846"
      },
      "source": [
        "m=np.asarray(m)\n",
        "m_m=np.asarray(m_m)/len(m_m)\n",
        "#plt.plot(abs(m_m))\n",
        "plt.plot(tp_p,(m_m),'.-')\n",
        "plt.xscale('log')"
      ],
      "execution_count": null,
      "outputs": [
        {
          "output_type": "display_data",
          "data": {
            "image/png": "[encoded data removed]",
            "text/plain": [
              "<Figure size 432x288 with 1 Axes>"
            ]
          },
          "metadata": {
            "tags": [],
            "needs_background": "light"
          }
        }
      ]
    },
    {
      "cell_type": "code",
      "metadata": {
        "id": "lffNnQxCjdS6"
      },
      "source": [
        "L=12\n",
        "g=2*np.random.randint(2,size=L*L)-1\n",
        "m_m=[]\n",
        "nei=[]\n",
        "for i in range(g.shape[0]):\n",
        "    nei.append(neig(i,L))\n",
        "nei=np.asarray(nei)\n",
        "cl=[]\n",
        "Te=np.linspace(0.01,3,50)\n",
        "\n",
        "for T in Te:\n",
        "    m=[]\n",
        "\n",
        "    m.append(float(sum(g)/L/L))\n",
        "\n",
        "    tp=0\n",
        "    l=[]\n",
        "    for t in range(500):\n",
        "        cl.clear()\n",
        "        cl=cluster_creation_1(T,L,g)\n",
        "\n",
        "        if np.random.random()<0.5:\n",
        "            r=np.random.randint(0,len(cl))\n",
        "            g[cl[r]]*=-1\n",
        "\n",
        "        if t>tp:\n",
        "            m.append(float(sum(g))/L/L)\n",
        "            tp=int(tp*1.1)+1\n",
        "    m=np.asarray(m)\n",
        "    m_m.append([abs(m).mean(),m.var()])\n",
        "    \n",
        "m_m=np.asarray(m_m)"
      ],
      "execution_count": null,
      "outputs": []
    },
    {
      "cell_type": "code",
      "metadata": {
        "id": "rWz9cdOnjdS7",
        "outputId": "424d3978-f083-4053-8ade-85600e4c7d0a"
      },
      "source": [
        "plt.plot(Te,m_m[:,0],'.-')"
      ],
      "execution_count": null,
      "outputs": [
        {
          "output_type": "execute_result",
          "data": {
            "text/plain": [
              "[<matplotlib.lines.Line2D at 0x7ffe8609ef50>]"
            ]
          },
          "metadata": {
            "tags": []
          },
          "execution_count": 144
        },
        {
          "output_type": "display_data",
          "data": {
            "image/png": "[encoded data removed]",
            "text/plain": [
              "<Figure size 432x288 with 1 Axes>"
            ]
          },
          "metadata": {
            "tags": [],
            "needs_background": "light"
          }
        }
      ]
    },
    {
      "cell_type": "code",
      "metadata": {
        "id": "y59ZykhjjdS7"
      },
      "source": [
        ""
      ],
      "execution_count": null,
      "outputs": []
    }
  ]
}