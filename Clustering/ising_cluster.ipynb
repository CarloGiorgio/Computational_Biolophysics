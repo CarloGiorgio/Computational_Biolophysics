{
  "nbformat": 4,
  "nbformat_minor": 0,
  "metadata": {
    "kernelspec": {
      "display_name": "Python 3",
      "language": "python",
      "name": "python3"
    },
    "language_info": {
      "codemirror_mode": {
        "name": "ipython",
        "version": 3
      },
      "file_extension": ".py",
      "mimetype": "text/x-python",
      "name": "python",
      "nbconvert_exporter": "python",
      "pygments_lexer": "ipython3",
      "version": "3.7.6"
    },
    "colab": {
      "name": "ising_cluster.ipynb",
      "provenance": [],
      "include_colab_link": true
    }
  },
  "cells": [
    {
      "cell_type": "markdown",
      "metadata": {
        "id": "view-in-github",
        "colab_type": "text"
      },
      "source": [
        "<a href=\"https://colab.research.google.com/github/CarloGiorgio/Computational_Biolophysics/blob/main/Clustering/ising_cluster.ipynb\" target=\"_parent\"><img src=\"https://colab.research.google.com/assets/colab-badge.svg\" alt=\"Open In Colab\"/></a>"
      ]
    },
    {
      "cell_type": "markdown",
      "metadata": {
        "id": "CWRpvTjpjeCd"
      },
      "source": [
        "# Ising model using Swendsen-Wang algorithm\n",
        "Random cluster method with a 1d array of Spins. The neighbors are the one on the lattice"
      ]
    },
    {
      "cell_type": "code",
      "metadata": {
        "id": "YSFXAHifjdSt"
      },
      "source": [
        "import numpy as np\n",
        "import matplotlib.pyplot as plt"
      ],
      "execution_count": 1,
      "outputs": []
    },
    {
      "cell_type": "code",
      "metadata": {
        "id": "fvw3Z_M8jdS4",
        "colab": {
          "base_uri": "https://localhost:8080/"
        },
        "outputId": "8d017726-f9cf-432c-d31a-bbef0db99ac3"
      },
      "source": [
        "#Ising model in 1d array\n",
        "L=5\n",
        "sp=2*np.random.randint(2,size=L*L)-1\n",
        "g=np.arange(L*L).reshape((L,L))\n",
        "g"
      ],
      "execution_count": 59,
      "outputs": [
        {
          "output_type": "execute_result",
          "data": {
            "text/plain": [
              "array([[ 0,  1,  2,  3,  4],\n",
              "       [ 5,  6,  7,  8,  9],\n",
              "       [10, 11, 12, 13, 14],\n",
              "       [15, 16, 17, 18, 19],\n",
              "       [20, 21, 22, 23, 24]])"
            ]
          },
          "metadata": {
            "tags": []
          },
          "execution_count": 59
        }
      ]
    },
    {
      "cell_type": "code",
      "metadata": {
        "id": "HJblUCGajdS4"
      },
      "source": [
        "#List of neighbors\n",
        "#function that finds once for all the neighobrs\n",
        "\n",
        "def neig(i,k,L,g):\n",
        "  l=[]\n",
        "  for j in [-1,1]:\n",
        "    l.extend([g[(i+j+L)%L,k],g[i,(k+j+L)%L]])\n",
        "  return l.copy()"
      ],
      "execution_count": 60,
      "outputs": []
    },
    {
      "cell_type": "code",
      "metadata": {
        "id": "BCz1ge4QjdS4",
        "colab": {
          "base_uri": "https://localhost:8080/"
        },
        "outputId": "d1985d26-087c-4e3e-a792-520d0bb03aed"
      },
      "source": [
        "nei=[]\n",
        "for i in range(L):\n",
        "  for k in range(L):\n",
        "      nei.append(neig(i,k,L,g))\n",
        "nei=np.asarray(nei)\n",
        "print(nei)\n",
        "g=g.reshape(L*L)"
      ],
      "execution_count": 61,
      "outputs": [
        {
          "output_type": "stream",
          "text": [
            "[[20  4  5  1]\n",
            " [21  0  6  2]\n",
            " [22  1  7  3]\n",
            " [23  2  8  4]\n",
            " [24  3  9  0]\n",
            " [ 0  9 10  6]\n",
            " [ 1  5 11  7]\n",
            " [ 2  6 12  8]\n",
            " [ 3  7 13  9]\n",
            " [ 4  8 14  5]\n",
            " [ 5 14 15 11]\n",
            " [ 6 10 16 12]\n",
            " [ 7 11 17 13]\n",
            " [ 8 12 18 14]\n",
            " [ 9 13 19 10]\n",
            " [10 19 20 16]\n",
            " [11 15 21 17]\n",
            " [12 16 22 18]\n",
            " [13 17 23 19]\n",
            " [14 18 24 15]\n",
            " [15 24  0 21]\n",
            " [16 20  1 22]\n",
            " [17 21  2 23]\n",
            " [18 22  3 24]\n",
            " [19 23  4 20]]\n"
          ],
          "name": "stdout"
        }
      ]
    },
    {
      "cell_type": "code",
      "metadata": {
        "id": "XWzso2l6jdS5"
      },
      "source": [
        "#Creation of the cluster\n",
        "\"\"\"\n",
        "We create a list with the index of the cluster.\n",
        "Run from a spin and check if it is or not in cluster\n",
        "Then try to add to my\n",
        "If added the algorithm will follow the new value \n",
        "It end when the index's array has no 0\n",
        "\"\"\"\n",
        "def new_advance(i,i_c,nei,Tr,sp):\n",
        "  l=[]\n",
        "  for n in nei[i]:\n",
        "    if i_c[n]==0 and sp[i]==sp[n] and np.random.uniform()<Tr:\n",
        "      l.append(n)\n",
        "      i_c[n]=i_c[i]\n",
        "  if l:\n",
        "    for l_n in l:\n",
        "      new_advance(l_n,i_c,nei,Tr,sp)\n",
        "  \n",
        "i_c=np.zeros(L*L)\n",
        "i=0\n",
        "k=0\n",
        "T=0.001\n",
        "Tr=1-np.exp(-2./T)\n",
        "while True:\n",
        "  while i_c[i]!=0:\n",
        "    i+=1\n",
        "  k+=1\n",
        "  i_c[i]=k\n",
        "  new_advance(i,i_c,nei,Tr,sp)\n",
        "  if np.all(i_c!=0):\n",
        "    break"
      ],
      "execution_count": 47,
      "outputs": []
    },
    {
      "cell_type": "code",
      "metadata": {
        "id": "CQcJ_Y3_oZ3z",
        "outputId": "801f72b3-7e0d-4c4e-a8ca-143eb58d6e36",
        "colab": {
          "base_uri": "https://localhost:8080/"
        }
      },
      "source": [
        "cl=[]\n",
        "for k in np.unique(i_c):\n",
        "  cl.append(list(g[i_c==k]))\n",
        "  print(g[i_c==k],sp[g[i_c==k]])"
      ],
      "execution_count": 48,
      "outputs": [
        {
          "output_type": "stream",
          "text": [
            "[ 0  2  4  6  8  9 11 12 13 14 15 16 17 18 19 22 23] [-1 -1 -1 -1 -1 -1 -1 -1 -1 -1 -1 -1 -1 -1 -1 -1 -1]\n",
            "[ 1 20 21 24] [1 1 1 1]\n",
            "[3] [1]\n",
            "[ 5 10] [1 1]\n",
            "[7] [1]\n"
          ],
          "name": "stdout"
        }
      ]
    },
    {
      "cell_type": "code",
      "metadata": {
        "id": "9FDarDP2r_xD",
        "outputId": "07ce36c0-a83b-4776-b541-bbe33fccc9ce",
        "colab": {
          "base_uri": "https://localhost:8080/"
        }
      },
      "source": [
        "def create_cluster(T,nei,L,sp):\n",
        "  i_c=np.zeros(L*L)\n",
        "  i=0\n",
        "  k=0\n",
        "  Tr=1-np.exp(-2./T)\n",
        "  while True:\n",
        "    while i_c[i]!=0:\n",
        "      i+=1\n",
        "    k+=1\n",
        "    i_c[i]=k\n",
        "    new_advance(i,i_c,nei,Tr,sp)\n",
        "    if np.all(i_c!=0):\n",
        "      break\n",
        "  cl=[]\n",
        "  g=np.arange(L*L)\n",
        "  for k in np.unique(i_c):\n",
        "    cl.append(list(g[i_c==k]))\n",
        "  return cl"
      ],
      "execution_count": 56,
      "outputs": [
        {
          "output_type": "execute_result",
          "data": {
            "text/plain": [
              "[[0, 2, 4, 6, 8, 9, 11, 12, 13, 14, 15, 16, 17, 18, 19, 22, 23],\n",
              " [1, 20, 21, 24],\n",
              " [3],\n",
              " [5, 10],\n",
              " [7]]"
            ]
          },
          "metadata": {
            "tags": []
          },
          "execution_count": 56
        }
      ]
    },
    {
      "cell_type": "code",
      "metadata": {
        "id": "CXPoXGX-qrgD",
        "outputId": "70f17a24-ccea-4063-a897-fcf809103970",
        "colab": {
          "base_uri": "https://localhost:8080/",
          "height": 282
        }
      },
      "source": [
        "plt.imshow(sp.reshape((L,L)))"
      ],
      "execution_count": 42,
      "outputs": [
        {
          "output_type": "execute_result",
          "data": {
            "text/plain": [
              "<matplotlib.image.AxesImage at 0x7f4b25c696d8>"
            ]
          },
          "metadata": {
            "tags": []
          },
          "execution_count": 42
        },
        {
          "output_type": "display_data",
          "data": {
            "image/png": "[encoded data removed]",
            "text/plain": [
              "<Figure size 432x288 with 1 Axes>"
            ]
          },
          "metadata": {
            "tags": [],
            "needs_background": "light"
          }
        }
      ]
    },
    {
      "cell_type": "code",
      "metadata": {
        "id": "4BAhtk5DjdS6"
      },
      "source": [
        "#Algorithm fo the temporal behaviour\n",
        "\n",
        "L=16\n",
        "sp=2*np.random.randint(2,size=L*L)-1\n",
        "T=float(2.26)\n",
        "m=[]\n",
        "m_m=[]\n",
        "m.append(float(sum(sp)/L/L))\n",
        "m_m.append(m[-1])\n",
        "tp_p=[0]\n",
        "\n",
        "\n",
        "nei=[]\n",
        "g=np.arange(L*L).reshape((L,L))\n",
        "\n",
        "for i in range(L):\n",
        "  for k in range(L):\n",
        "    nei.append(neig(i,k,L,g))\n",
        "\n",
        "tp=100\n",
        "cl=[]\n",
        "k=[]\n",
        "l=[]\n",
        "\n",
        "for t in range(1000):\n",
        "    cl=create_cluster(T,nei,L,sp)\n",
        "    \n",
        "    if np.random.random()<0.5:\n",
        "        r=np.random.randint(0,len(cl))\n",
        "        sp[cl[r]]*=-1\n",
        "\n",
        "    if t>tp:\n",
        "      m.append(float(sum(sp))/L/L)\n",
        "      m_m.append(float(sum((np.asarray(m)))))\n",
        "      tp=int(tp*1.1)+1\n",
        "      tp_p.append(tp)"
      ],
      "execution_count": 129,
      "outputs": []
    },
    {
      "cell_type": "code",
      "metadata": {
        "id": "6Cd_1_8CjdS6",
        "outputId": "013ca423-ccd9-4c6c-fa11-535c9407a699",
        "colab": {
          "base_uri": "https://localhost:8080/",
          "height": 269
        }
      },
      "source": [
        "m=np.asarray(m)\n",
        "m_m=np.asarray(m_m)/len(m_m)\n",
        "#plt.plot(abs(m_m))\n",
        "plt.plot(tp_p,abs(m_m),'.-')\n",
        "plt.xscale('log')"
      ],
      "execution_count": 132,
      "outputs": [
        {
          "output_type": "display_data",
          "data": {
            "image/png": "[encoded data removed]",
            "text/plain": [
              "<Figure size 432x288 with 1 Axes>"
            ]
          },
          "metadata": {
            "tags": [],
            "needs_background": "light"
          }
        }
      ]
    },
    {
      "cell_type": "code",
      "metadata": {
        "id": "R-VNhFeauwWs"
      },
      "source": [
        "#Function with the algorithm\n",
        "#We focus on the observable that are the mean value of the magnetization\n",
        "\n",
        "def traj(L,T):\n",
        "  sp=2*np.random.randint(2,size=L*L)-1\n",
        "  m=[]\n",
        "  m.append(float(sum(sp)/L/L))\n",
        "\n",
        "\n",
        "  nei=[]\n",
        "  g=np.arange(L*L).reshape((L,L))\n",
        "\n",
        "  for i in range(L):\n",
        "    for k in range(L):\n",
        "      nei.append(neig(i,k,L,g))\n",
        "\n",
        "  tp=100\n",
        "  cl=[]\n",
        "  k=[]\n",
        "  l=[]\n",
        "\n",
        "  for t in range(1000):\n",
        "      cl=create_cluster(T,nei,L,sp)\n",
        "      \n",
        "      if np.random.random()<0.5:\n",
        "          r=np.random.randint(0,len(cl))\n",
        "          sp[cl[r]]*=-1\n",
        "          \n",
        "      if t>tp:\n",
        "          m.append(float(sum(sp))/L/L)\n",
        "          tp=int(tp*1.1)+1\n",
        "  m=np.asarray(m)\n",
        "  return abs(m).mean(), abs(m).var()"
      ],
      "execution_count": 141,
      "outputs": []
    },
    {
      "cell_type": "code",
      "metadata": {
        "id": "rWz9cdOnjdS7"
      },
      "source": [
        "tw=np.linspace(0.001,3,20)\n",
        "m=np.zeros(tw.shape[-1])\n",
        "chi=m.copy()\n",
        "for i,t in enumerate(tw):\n",
        "  m[i],chi[i]=traj(26,t)"
      ],
      "execution_count": 145,
      "outputs": []
    },
    {
      "cell_type": "code",
      "metadata": {
        "id": "y59ZykhjjdS7",
        "outputId": "6010a8ce-97f2-4b16-d861-aaabf56383de",
        "colab": {
          "base_uri": "https://localhost:8080/",
          "height": 286
        }
      },
      "source": [
        "#plt.plot(tw,m,'.')\n",
        "plt.plot(tw,chi,'.')"
      ],
      "execution_count": 146,
      "outputs": [
        {
          "output_type": "execute_result",
          "data": {
            "text/plain": [
              "[<matplotlib.lines.Line2D at 0x7f4b237677b8>]"
            ]
          },
          "metadata": {
            "tags": []
          },
          "execution_count": 146
        },
        {
          "output_type": "display_data",
          "data": {
            "image/png": "[encoded data removed]",
            "text/plain": [
              "<Figure size 432x288 with 1 Axes>"
            ]
          },
          "metadata": {
            "tags": [],
            "needs_background": "light"
          }
        }
      ]
    }
  ]
}