{
 "cells": [
  {
   "cell_type": "code",
   "execution_count": 1,
   "metadata": {},
   "outputs": [],
   "source": [
    "import numpy as np\n",
    "import matplotlib.pyplot as plt\n",
    "from sklearn.datasets import load_iris\n",
    "from sklearn.metrics.pairwise import euclidean_distances"
   ]
  },
  {
   "cell_type": "code",
   "execution_count": 2,
   "metadata": {},
   "outputs": [
    {
     "name": "stdout",
     "output_type": "stream",
     "text": [
      "(150, 4) (150,)\n"
     ]
    }
   ],
   "source": [
    "x,label=load_iris(True)\n",
    "print(x.shape,label.shape)"
   ]
  },
  {
   "cell_type": "code",
   "execution_count": 3,
   "metadata": {},
   "outputs": [],
   "source": [
    "#Distances between the elements \n",
    "#Element i-j: distance between the element i and j\n",
    "dist=euclidean_distances(x)"
   ]
  },
  {
   "cell_type": "code",
   "execution_count": 4,
   "metadata": {},
   "outputs": [
    {
     "name": "stdout",
     "output_type": "stream",
     "text": [
      "[[17, 4, 28, 39, 27], [12, 45, 34, 9, 25], [47, 3, 6, 45], [47, 29, 30, 2], [0, 37, 40, 17], [18, 44], [47, 2, 11], [39, 49, 28], [38, 13], [34, 1, 30, 12, 25], [48, 36], [29, 6, 24], [1, 9, 34, 45], [38, 42, 8], [33, 15], [33, 14], [33], [0, 40, 28, 4], [5], [46, 21, 48], [31], [19, 46, 48], [], [26, 43], [11], [34, 9, 30, 1], [23, 43], [28, 39, 0], [27, 0, 39, 17, 7], [30, 3, 47, 11], [34, 29, 9, 25, 3], [20, 36], [33], [32, 15, 16, 14], [9, 1, 30, 25, 12], [49], [10, 31], [4], [8, 42, 13], [7, 27, 0, 28, 49], [17, 4], [], [38, 47, 13], [26, 23], [5], [1, 12, 2], [19, 21, 48], [2, 3, 6, 29, 42], [10, 19, 46, 21], [7, 39, 35], [52, 86], [56, 75, 65, 91], [50, 86, 77, 76], [89, 80, 81], [58, 75, 76, 74], [66, 90], [51, 85], [93, 98, 60], [54, 75, 86, 65, 76], [], [93, 57, 98], [96, 78, 95, 88], [], [91, 73, 78], [79], [75, 58, 86, 51, 74], [84, 55], [92, 82], [87, 119], [80, 89, 92, 81, 82], [138, 127, 149, 85], [97, 82], [123, 133, 146, 119], [63, 91], [97, 75, 54, 65], [65, 58, 74, 54, 51], [58, 52, 54, 77], [52, 110, 76], [91, 63, 61, 97], [81, 64], [81, 69, 89, 53], [80, 69, 79, 53], [92, 67, 69, 71], [133, 101, 142], [66], [56, 70], [52, 58, 65, 50], [68], [95, 96, 99, 61], [53, 69, 80, 94], [94, 55], [63, 78, 73, 97, 51], [82, 67, 99, 69, 94], [57, 60, 98], [99, 96, 90, 89, 92], [96, 88, 99, 61], [95, 99, 88, 94, 61], [74, 71, 78, 91], [57, 93, 60], [96, 94, 88, 95, 92], [136], [113, 121, 149, 83], [125, 130], [116, 137, 128, 111, 132], [132, 128, 140, 124, 143], [122, 107, 118, 135], [], [130, 125, 105, 129], [], [], [147, 115, 77], [147, 128, 146, 103, 116], [139, 140, 120, 124, 145], [101, 142, 121, 114], [121, 113], [148, 145, 110, 136, 147], [137, 103, 147, 111, 128], [131], [122, 105], [72, 68], [143, 140, 144, 124, 112], [101, 142, 113, 114], [105, 118, 135], [126, 146, 72, 127, 133], [120, 143, 112, 104], [129, 102, 107, 130], [123, 127, 138, 146], [138, 126, 149, 70, 123], [132, 104, 103, 111, 116], [125, 130, 107], [107, 102, 125, 129, 135], [117], [128, 104, 103], [83, 72, 123], [], [130, 105, 122], [148, 115, 100, 144], [116, 103], [127, 70, 126, 149], [112, 145, 141], [144, 120, 112, 143, 104], [145, 139], [142, 113, 121, 149, 83], [120, 124, 144, 140, 104], [140, 120, 143, 136], [141, 147, 139, 115, 112], [123, 111, 126, 72], [110, 111, 145, 116, 115], [136, 115], [127, 138, 142, 101, 70]] 150\n"
     ]
    }
   ],
   "source": [
    "#Set the number of neighbors and the list of the closed ones\n",
    "# np.argsort create an array of the argument with lower value of the distances\n",
    "\n",
    "K=5\n",
    "N=dist.shape[0]\n",
    "nodenext=[]\n",
    "Rank=np.argsort(dist)[:,1:K+1]\n",
    "for i in range(N):\n",
    "        e=[]\n",
    "        for j in Rank[i]:\n",
    "            if i in Rank[j]:\n",
    "                e.append(j)\n",
    "        nodenext.append(e)\n",
    "print(nodenext,len(nodenext))"
   ]
  },
  {
   "cell_type": "code",
   "execution_count": 5,
   "metadata": {},
   "outputs": [
    {
     "data": {
      "text/plain": [
       "(150, 150)"
      ]
     },
     "execution_count": 5,
     "metadata": {},
     "output_type": "execute_result"
    }
   ],
   "source": [
    "# Evaluation of the parameter of the Hamiltonian \n",
    "#The mean value of the closed ones and the average nearest neighbors distance\n",
    "\n",
    "khat = 0\n",
    "for i in nodenext:\n",
    "    khat+= len(i)\n",
    "khat = khat / N\n",
    "\n",
    "\n",
    "a = 0\n",
    "for i in range(N):\n",
    "    a+=sum(dist[i,nodenext[i]])\n",
    "a = 4 * a / (khat*N)\n",
    "\n",
    "J = (1 / khat) * np.exp(- ( dist / a/2)**2)\n",
    "J.shape"
   ]
  },
  {
   "cell_type": "code",
   "execution_count": 6,
   "metadata": {},
   "outputs": [
    {
     "data": {
      "text/plain": [
       "array([14,  4, 15, 19,  5,  4, 11,  4,  1, 17,  3,  9, 18,  1, 14,  8,  4,\n",
       "       10,  3, 10,  1, 11, 19,  3, 18, 17,  5,  2,  7, 13,  2, 15, 14, 14,\n",
       "       11,  1,  9,  3, 18, 14, 16, 19,  5, 13,  9, 14,  8,  4,  7,  1,  8,\n",
       "        7,  6, 17,  0,  7, 16,  4, 19,  4,  2,  6,  6, 18,  7, 19,  0, 17,\n",
       "        0, 12, 15,  4,  9, 13,  4, 15,  6,  3,  3,  6,  9,  9, 18,  5, 18,\n",
       "        0, 19,  6, 16, 12,  6, 18,  3,  4, 15,  3,  0,  6, 16,  3, 14, 15,\n",
       "       13, 16,  3, 10,  7,  9,  9, 13, 13,  2,  8, 19,  1,  1, 10, 13,  9,\n",
       "        1,  5, 17,  7, 14, 18,  4,  4, 15, 19,  6,  8,  2,  3, 12,  9, 14,\n",
       "        5, 19,  9,  9, 14, 17, 17,  3,  7,  9, 18,  4, 11,  1])"
      ]
     },
     "execution_count": 6,
     "metadata": {},
     "output_type": "execute_result"
    }
   ],
   "source": [
    "#Assignment of the spins in a random way \n",
    "\n",
    "S=np.random.randint(20,size=dist.shape[0])\n",
    "S"
   ]
  },
  {
   "cell_type": "code",
   "execution_count": 7,
   "metadata": {},
   "outputs": [],
   "source": [
    "#Creation of the cluster list\n",
    "def clust_creation_pot(nodenext):\n",
    "    g=list(range(150))\n",
    "    k=g.copy()\n",
    "    cl=[]\n",
    "    j=0\n",
    "    for gi in g:\n",
    "        if (gi in k) and j!=0:\n",
    "            l.append(s)\n",
    "            cl.append(l)\n",
    "            s=gi\n",
    "            l=[]\n",
    "        if (gi in k) and j==0:\n",
    "            s=gi\n",
    "            l=[]\n",
    "            j=1\n",
    "        for n in nodenext[gi]:\n",
    "            if S[n]==S[gi] and np.random.random()<1-np.exp(-2/T*J[gi,n]) and n in k:\n",
    "                l.append(n)\n",
    "                try :\n",
    "                    k.remove(n)\n",
    "                except:\n",
    "                    break\n",
    "        if gi in k:\n",
    "            k.remove(gi)\n",
    "    cl.append(l.copy())\n",
    "    return cl"
   ]
  },
  {
   "cell_type": "code",
   "execution_count": 8,
   "metadata": {},
   "outputs": [],
   "source": [
    "#Magnetization\n",
    "def mag_pot(S):\n",
    "    _,count=np.unique(S,return_counts=True)\n",
    "    return float((np.max(count)/S.shape*q-1)/(q-1))"
   ]
  },
  {
   "cell_type": "code",
   "execution_count": 9,
   "metadata": {},
   "outputs": [],
   "source": [
    "#Mcmc Step\n",
    "def try_change_pot(S,cl):\n",
    "    if (np.random.random()<0.5):\n",
    "        p=np.random.randint(q)\n",
    "        r=np.random.randint(len(cl))\n",
    "        for c in cl[r]:\n",
    "            S[c]=p"
   ]
  },
  {
   "cell_type": "code",
   "execution_count": 13,
   "metadata": {},
   "outputs": [],
   "source": [
    "def simu_pot(T,Te):\n",
    "    m=[]\n",
    "    q=20\n",
    "    S=np.random.randint(20,size=dist.shape[0])\n",
    "    for t in range(Te):\n",
    "        cl=clust_creation_pot(nodenext)\n",
    "        try_change_pot(S,cl)\n",
    "        if t>150:\n",
    "            m.append(mag_pot(S))\n",
    "    m=np.asarray(m)\n",
    "    return np.mean(m),np.var(m)"
   ]
  },
  {
   "cell_type": "code",
   "execution_count": 31,
   "metadata": {},
   "outputs": [],
   "source": [
    "q=2\n",
    "Tem=np.linspace(0.01,15,100)\n",
    "results=[]\n",
    "for T in Tem:\n",
    "    results.append(simu_pot(T,600))\n",
    "results=np.asarray(results)"
   ]
  },
  {
   "cell_type": "code",
   "execution_count": 35,
   "metadata": {},
   "outputs": [
    {
     "data": {
      "image/png": "[encoded data removed]",
      "text/plain": [
       "<Figure size 432x288 with 1 Axes>"
      ]
     },
     "metadata": {
      "needs_background": "light"
     },
     "output_type": "display_data"
    }
   ],
   "source": [
    "plt.plot(results[:,1],'.')\n",
    "plt.yscale('log')"
   ]
  },
  {
   "cell_type": "code",
   "execution_count": 34,
   "metadata": {},
   "outputs": [
    {
     "data": {
      "text/plain": [
       "[<matplotlib.lines.Line2D at 0x7f96fda8e310>]"
      ]
     },
     "execution_count": 34,
     "metadata": {},
     "output_type": "execute_result"
    },
    {
     "data": {
      "image/png": "[encoded data removed]",
      "text/plain": [
       "<Figure size 432x288 with 1 Axes>"
      ]
     },
     "metadata": {
      "needs_background": "light"
     },
     "output_type": "display_data"
    }
   ],
   "source": [
    "plt.plot(results[:,0])"
   ]
  },
  {
   "cell_type": "code",
   "execution_count": null,
   "metadata": {},
   "outputs": [],
   "source": []
  }
 ],
 "metadata": {
  "kernelspec": {
   "display_name": "Python 3",
   "language": "python",
   "name": "python3"
  },
  "language_info": {
   "codemirror_mode": {
    "name": "ipython",
    "version": 3
   },
   "file_extension": ".py",
   "mimetype": "text/x-python",
   "name": "python",
   "nbconvert_exporter": "python",
   "pygments_lexer": "ipython3",
   "version": "3.7.6"
  }
 },
 "nbformat": 4,
 "nbformat_minor": 4
}
